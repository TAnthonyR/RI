{
  "nbformat": 4,
  "nbformat_minor": 0,
  "metadata": {
    "colab": {
      "provenance": []
    },
    "kernelspec": {
      "name": "python3",
      "display_name": "Python 3"
    },
    "language_info": {
      "name": "python"
    }
  },
  "cells": [
    {
      "cell_type": "markdown",
      "source": [
        "# **ESCUELA POLITECNICA NACIONAL**\n",
        "\n",
        "**Nombre:** Anthony Reinoso"
      ],
      "metadata": {
        "id": "6DeLLPgngr-G"
      }
    },
    {
      "cell_type": "markdown",
      "source": [
        "---\n",
        "## Terminos en Corpus"
      ],
      "metadata": {
        "id": "dodu5FAzCNft"
      }
    },
    {
      "cell_type": "markdown",
      "source": [
        "- Cuantos terminos tiene el corpus?"
      ],
      "metadata": {
        "id": "nspNbHeqYtIn"
      }
    },
    {
      "cell_type": "code",
      "source": [
        "import re\n",
        "import unicodedata\n",
        "import math\n",
        "\n",
        "diccionario = {}\n",
        "corpus = []\n",
        "\n",
        "with open('01_corpus_turismo.txt', 'r', encoding='utf-8') as f:\n",
        "    for linea in f:\n",
        "        doc = linea.split()\n",
        "        corpus.append(doc)\n",
        "        for palabra in doc:\n",
        "            if palabra not in diccionario:\n",
        "                diccionario[palabra] = {'frecuencias': []}\n",
        "\n",
        "for term in diccionario:\n",
        "    diccionario[term]['frecuencias'] = [doc.count(term) for doc in corpus]\n",
        "\n",
        "total_terminos = sum(len(doc) for doc in corpus)\n",
        "\n",
        "print(f\"\\nTérminos encontrados:\\n{', '.join(sorted(diccionario.keys()))}\")\n",
        "print(f\"\\nTotal de términos en el corpus: {total_terminos}\")\n"
      ],
      "metadata": {
        "colab": {
          "base_uri": "https://localhost:8080/"
        },
        "id": "zr66bPHvYwAY",
        "outputId": "c8d6fd83-1673-4bb3-b5c1-346bee232cdb"
      },
      "execution_count": 64,
      "outputs": [
        {
          "output_type": "stream",
          "name": "stdout",
          "text": [
            "\n",
            "Términos encontrados:\n",
            "2000,, Agua, Amazonía, Andes., Baños, Cajas, Cotopaxi, Cuenca, Ecuador, El, En, Galápagos, Guayaquil, Humanidad, Islas, La, Laguna, Las, Longevidad,, Los, López., Malecón, Mindo, Montañita, Montañita,, Nacional, Otavalo, Pacífico., Parque, Patrimonio, Puerto, Quilotoa, Quito, Ruta, Salinas, Santa,, Spondylus, UNESCO., Valle, Vilcabamba,, a, alrededor, altitud., arquitectura, artesanal., ascensiones, atrae, atraen, aventura, aves, avistamiento, bienestar, biodiversidad, bosques, cada, caminatas, canopy., cascadas., centro, cercanía, ciudad, colonial, color, como, comunidades, con, conecta, conocer, conocido, cráter., cuenta, cultura, de, declarado, del, deportes, deslumbra, disfrutan, durante, ecológico., ecuatorianos, el, en, entre, es, excursionistas, exploración, famosas, famoso, feriado, feriado,, feriados, fiestas, gastronomía, gran, histórico, ideales, impacta, impresionantes, indígena, indígenas, interesados, invita, jóvenes, la, lagunas, las, llena, locales, los, megadiverso,, mercado, montañas, muchos, mundo, más, nacionales., naturaleza., nocturna, nublados., ofrece, para, paraíso, país, playas, playas,, por, páramos, rafting, región., se, selvas, senderos, sorprende, su, surfistas, todo, tradicional., trekking, turismo, turistas, turquesa, típica, un, una, viajeros, vibrante, vida, visitan, visitantes, volcán, y, única.\n",
            "\n",
            "Total de términos en el corpus: 240\n"
          ]
        }
      ]
    },
    {
      "cell_type": "markdown",
      "source": [
        "---\n",
        "- Terminos sin tildes, minúsculas, sin signos de puntuación y ordenados alfabéticamente en Corpus"
      ],
      "metadata": {
        "id": "uxb52z0IY2ug"
      }
    },
    {
      "cell_type": "code",
      "execution_count": 65,
      "metadata": {
        "colab": {
          "base_uri": "https://localhost:8080/"
        },
        "id": "ONqwROUBCJNL",
        "outputId": "f2675e27-c7bb-44a2-90e5-a866be4b4290"
      },
      "outputs": [
        {
          "output_type": "stream",
          "name": "stdout",
          "text": [
            "Términos encontrados:\n",
            "2000, a, agua, alrededor, altitud, amazonia, andes, arquitectura, artesanal, ascensiones, atrae, atraen, aventura, aves, avistamiento, banos, bienestar, biodiversidad, bosques, cada, cajas, caminatas, canopy, cascadas, centro, cercania, ciudad, colonial, color, como, comunidades, con, conecta, conocer, conocido, cotopaxi, crater, cuenca, cuenta, cultura, de, declarado, del, deportes, deslumbra, disfrutan, durante, ecologico, ecuador, ecuatorianos, el, en, entre, es, excursionistas, exploracion, famosas, famoso, feriado, feriados, fiestas, galapagos, gastronomia, gran, guayaquil, historico, humanidad, ideales, impacta, impresionantes, indigena, indigenas, interesados, invita, islas, jovenes, la, laguna, lagunas, las, llena, locales, longevidad, lopez, los, malecon, mas, megadiverso, mercado, mindo, montanas, montanita, muchos, mundo, nacional, nacionales, naturaleza, nocturna, nublados, ofrece, otavalo, pacifico, pais, para, paraiso, paramos, parque, patrimonio, playas, por, puerto, quilotoa, quito, rafting, region, ruta, salinas, santa, se, selvas, senderos, sorprende, spondylus, su, surfistas, tipica, todo, tradicional, trekking, turismo, turistas, turquesa, un, una, unesco, unica, valle, viajeros, vibrante, vida, vilcabamba, visitan, visitantes, volcan, y\n",
            "\n",
            "Total de términos únicos: 145\n"
          ]
        }
      ],
      "source": [
        "import re\n",
        "import unicodedata\n",
        "import math\n",
        "\n",
        "diccionario = {}\n",
        "corpus = []\n",
        "\n",
        "with open('01_corpus_turismo.txt', 'r', encoding='utf-8') as f:\n",
        "    for linea in f:\n",
        "      # Se encarga de eliminar signos de puntuación y convertir a minúsculas\n",
        "        linea_limpia = re.sub(r'[^\\w\\s]', '', linea).lower()\n",
        "        # Normalizar cada palabra: quitar acentos\n",
        "        doc = [''.join(c for c in unicodedata.normalize('NFD', p) if unicodedata.category(c) != 'Mn') for p in linea_limpia.split()]\n",
        "        corpus.append(doc)\n",
        "        # Inicializar entradas en el diccionario si el término es nuevo\n",
        "        for palabra in doc:\n",
        "            if palabra not in diccionario:\n",
        "                diccionario[palabra] = {'frecuencias': []}\n",
        "\n",
        "for term in diccionario:\n",
        "    diccionario[term]['frecuencias'] = [doc.count(term) for doc in corpus]\n",
        "\n",
        "print(f\"Términos encontrados:\\n{', '.join(sorted(diccionario.keys()))}\")\n",
        "print(f\"\\nTotal de términos únicos: {len(diccionario)}\")\n"
      ]
    },
    {
      "cell_type": "markdown",
      "source": [
        "---\n",
        "- Matriz de Terminos - Documentos"
      ],
      "metadata": {
        "id": "iCp751roi6Sn"
      }
    },
    {
      "cell_type": "code",
      "source": [
        "import re\n",
        "import unicodedata\n",
        "import math\n",
        "\n",
        "diccionario = {}\n",
        "corpus = []\n",
        "\n",
        "with open('01_corpus_turismo.txt', 'r', encoding='utf-8') as f:\n",
        "    for linea in f:\n",
        "        linea_limpia = re.sub(r'[^\\w\\s]', '', linea).lower()\n",
        "        doc = [''.join(c for c in unicodedata.normalize('NFD', p) if unicodedata.category(c) != 'Mn') for p in linea_limpia.split()]\n",
        "        corpus.append(doc)\n",
        "\n",
        "        for palabra in doc:\n",
        "            if palabra not in diccionario:\n",
        "                diccionario[palabra] = {'frecuencias': [], 'dft': 0}\n",
        "\n",
        "N = len(corpus)\n",
        "\n",
        "# Calcula frecuencia y dtf\n",
        "for term in diccionario:\n",
        "    diccionario[term]['frecuencias'] = [doc.count(term) for doc in corpus]\n",
        "    diccionario[term]['dft'] = sum(1 for freq in diccionario[term]['frecuencias'] if freq > 0)  # Documentos donde aparece\n",
        "    diccionario[term]['idf'] = math.log(N / (diccionario[term]['dft'] + 1))\n",
        "\n",
        "print(\"MATRIZ DE TERMINOS - DOCUMENTOS\\n\")\n",
        "print(\"Término\".ljust(15), end='')\n",
        "for i in range(N):\n",
        "    print(f\"| Doc {i+1}\".ljust(8), end='')\n",
        "print(\"| IDF\")\n",
        "print('-' * (15 + N*8 +10))\n",
        "\n",
        "# Imprime por término\n",
        "for term in sorted(diccionario):\n",
        "    print(term.ljust(15), end='')\n",
        "    for freq in diccionario[term]['frecuencias']:\n",
        "        print(f\"| {str(freq).ljust(6)}\", end='')\n",
        "    print(f\"| {diccionario[term]['idf']:.4f}\")\n",
        "\n",
        "print(f\"\\nTotal de Términos únicos: {len(diccionario)}\")"
      ],
      "metadata": {
        "colab": {
          "base_uri": "https://localhost:8080/"
        },
        "id": "UfVbP-hNTAuq",
        "outputId": "cba3768b-a0da-49ff-e17e-edf0d5939b3d"
      },
      "execution_count": 66,
      "outputs": [
        {
          "output_type": "stream",
          "name": "stdout",
          "text": [
            "MATRIZ DE TERMINOS - DOCUMENTOS\n",
            "\n",
            "Término        | Doc 1 | Doc 2 | Doc 3 | Doc 4 | Doc 5 | Doc 6 | Doc 7 | Doc 8 | Doc 9 | Doc 10| Doc 11| Doc 12| Doc 13| Doc 14| Doc 15| Doc 16| IDF\n",
            "---------------------------------------------------------------------------------------------------------------------------------------------------------\n",
            "2000           | 0     | 0     | 0     | 0     | 0     | 0     | 0     | 0     | 0     | 1     | 0     | 0     | 0     | 0     | 0     | 0     | 2.0794\n",
            "a              | 0     | 0     | 0     | 0     | 0     | 0     | 1     | 1     | 0     | 1     | 0     | 0     | 3     | 0     | 0     | 0     | 1.1632\n",
            "agua           | 0     | 0     | 0     | 1     | 0     | 0     | 0     | 0     | 0     | 0     | 0     | 0     | 0     | 0     | 0     | 0     | 2.0794\n",
            "alrededor      | 0     | 0     | 0     | 0     | 0     | 0     | 0     | 0     | 0     | 0     | 1     | 0     | 0     | 0     | 0     | 0     | 2.0794\n",
            "altitud        | 0     | 0     | 0     | 0     | 0     | 0     | 0     | 0     | 0     | 0     | 0     | 0     | 1     | 0     | 0     | 0     | 2.0794\n",
            "amazonia       | 0     | 0     | 0     | 0     | 0     | 0     | 0     | 0     | 0     | 0     | 0     | 1     | 0     | 0     | 0     | 0     | 2.0794\n",
            "andes          | 0     | 0     | 0     | 0     | 0     | 0     | 0     | 1     | 0     | 0     | 0     | 0     | 0     | 0     | 0     | 0     | 2.0794\n",
            "arquitectura   | 0     | 0     | 0     | 0     | 0     | 0     | 1     | 0     | 0     | 0     | 0     | 0     | 0     | 0     | 0     | 0     | 2.0794\n",
            "artesanal      | 0     | 0     | 0     | 0     | 0     | 1     | 0     | 0     | 0     | 0     | 0     | 0     | 0     | 0     | 0     | 0     | 2.0794\n",
            "ascensiones    | 0     | 0     | 0     | 0     | 0     | 0     | 0     | 1     | 0     | 0     | 0     | 0     | 0     | 0     | 0     | 0     | 2.0794\n",
            "atrae          | 0     | 0     | 0     | 0     | 0     | 0     | 0     | 0     | 0     | 0     | 0     | 0     | 0     | 0     | 1     | 0     | 2.0794\n",
            "atraen         | 0     | 1     | 0     | 0     | 0     | 0     | 0     | 0     | 0     | 0     | 0     | 0     | 0     | 0     | 0     | 0     | 2.0794\n",
            "aventura       | 0     | 0     | 0     | 1     | 0     | 0     | 0     | 0     | 0     | 0     | 0     | 0     | 0     | 0     | 0     | 0     | 2.0794\n",
            "aves           | 0     | 0     | 0     | 0     | 0     | 0     | 0     | 0     | 1     | 0     | 0     | 0     | 0     | 0     | 0     | 0     | 2.0794\n",
            "avistamiento   | 0     | 0     | 0     | 0     | 0     | 0     | 0     | 0     | 1     | 0     | 0     | 0     | 0     | 0     | 0     | 0     | 2.0794\n",
            "banos          | 0     | 0     | 0     | 1     | 0     | 0     | 0     | 0     | 0     | 0     | 0     | 0     | 0     | 0     | 0     | 0     | 2.0794\n",
            "bienestar      | 0     | 0     | 0     | 0     | 0     | 0     | 0     | 0     | 0     | 0     | 0     | 0     | 0     | 0     | 1     | 0     | 2.0794\n",
            "biodiversidad  | 0     | 1     | 0     | 0     | 0     | 0     | 0     | 0     | 0     | 0     | 0     | 0     | 0     | 0     | 0     | 0     | 2.0794\n",
            "bosques        | 0     | 0     | 0     | 0     | 0     | 0     | 0     | 0     | 1     | 0     | 0     | 0     | 0     | 0     | 0     | 0     | 2.0794\n",
            "cada           | 0     | 0     | 0     | 0     | 0     | 0     | 0     | 0     | 0     | 0     | 0     | 0     | 0     | 1     | 0     | 0     | 2.0794\n",
            "cajas          | 0     | 0     | 0     | 0     | 0     | 0     | 0     | 0     | 0     | 0     | 0     | 0     | 1     | 0     | 0     | 0     | 2.0794\n",
            "caminatas      | 0     | 0     | 0     | 0     | 0     | 0     | 0     | 0     | 0     | 0     | 0     | 0     | 1     | 0     | 0     | 0     | 2.0794\n",
            "canopy         | 0     | 0     | 0     | 1     | 0     | 0     | 0     | 0     | 0     | 0     | 0     | 0     | 0     | 0     | 0     | 0     | 2.0794\n",
            "cascadas       | 0     | 0     | 0     | 0     | 0     | 0     | 0     | 0     | 0     | 0     | 0     | 1     | 0     | 0     | 0     | 0     | 2.0794\n",
            "centro         | 0     | 0     | 1     | 0     | 0     | 0     | 0     | 0     | 0     | 0     | 0     | 0     | 0     | 0     | 0     | 0     | 2.0794\n",
            "cercania       | 0     | 0     | 0     | 0     | 0     | 0     | 0     | 0     | 0     | 1     | 0     | 0     | 0     | 0     | 0     | 0     | 2.0794\n",
            "ciudad         | 0     | 0     | 1     | 0     | 0     | 0     | 0     | 0     | 0     | 0     | 0     | 0     | 0     | 0     | 0     | 0     | 2.0794\n",
            "colonial       | 0     | 0     | 0     | 0     | 0     | 0     | 1     | 0     | 0     | 0     | 0     | 0     | 0     | 0     | 0     | 0     | 2.0794\n",
            "color          | 0     | 0     | 0     | 0     | 0     | 0     | 0     | 0     | 0     | 0     | 1     | 0     | 0     | 0     | 0     | 0     | 2.0794\n",
            "como           | 0     | 0     | 0     | 1     | 1     | 0     | 0     | 0     | 0     | 0     | 0     | 0     | 0     | 0     | 1     | 0     | 1.3863\n",
            "comunidades    | 0     | 0     | 0     | 0     | 0     | 0     | 0     | 0     | 0     | 0     | 0     | 1     | 0     | 0     | 0     | 0     | 2.0794\n",
            "con            | 1     | 0     | 1     | 0     | 0     | 0     | 1     | 0     | 0     | 1     | 1     | 0     | 0     | 0     | 0     | 0     | 0.9808\n",
            "conecta        | 0     | 0     | 0     | 0     | 1     | 0     | 0     | 0     | 0     | 0     | 0     | 0     | 0     | 0     | 0     | 0     | 2.0794\n",
            "conocer        | 0     | 0     | 0     | 0     | 0     | 0     | 0     | 0     | 0     | 0     | 0     | 1     | 0     | 0     | 0     | 0     | 2.0794\n",
            "conocido       | 0     | 0     | 0     | 0     | 0     | 0     | 0     | 0     | 0     | 0     | 0     | 0     | 0     | 0     | 1     | 0     | 2.0794\n",
            "cotopaxi       | 0     | 0     | 0     | 0     | 0     | 0     | 0     | 1     | 0     | 0     | 0     | 0     | 0     | 0     | 0     | 0     | 2.0794\n",
            "crater         | 0     | 0     | 0     | 0     | 0     | 0     | 0     | 0     | 0     | 0     | 1     | 0     | 0     | 0     | 0     | 0     | 2.0794\n",
            "cuenca         | 0     | 0     | 0     | 0     | 0     | 0     | 1     | 0     | 0     | 0     | 0     | 0     | 0     | 0     | 0     | 0     | 2.0794\n",
            "cuenta         | 0     | 0     | 1     | 0     | 0     | 0     | 0     | 0     | 0     | 0     | 0     | 0     | 0     | 0     | 0     | 0     | 2.0794\n",
            "cultura        | 0     | 0     | 0     | 0     | 0     | 1     | 0     | 0     | 0     | 0     | 0     | 0     | 0     | 0     | 0     | 0     | 2.0794\n",
            "de             | 0     | 1     | 2     | 3     | 0     | 0     | 0     | 2     | 2     | 0     | 1     | 0     | 0     | 3     | 1     | 1     | 0.4700\n",
            "declarado      | 0     | 0     | 1     | 0     | 0     | 0     | 0     | 0     | 0     | 0     | 0     | 0     | 0     | 0     | 0     | 0     | 2.0794\n",
            "del            | 0     | 0     | 0     | 0     | 1     | 0     | 0     | 0     | 0     | 1     | 1     | 0     | 0     | 0     | 0     | 0     | 1.3863\n",
            "deportes       | 0     | 0     | 0     | 1     | 0     | 0     | 0     | 0     | 0     | 0     | 0     | 0     | 0     | 0     | 0     | 0     | 2.0794\n",
            "deslumbra      | 0     | 0     | 0     | 0     | 0     | 0     | 1     | 0     | 0     | 0     | 0     | 0     | 0     | 0     | 0     | 0     | 2.0794\n",
            "disfrutan      | 0     | 0     | 0     | 1     | 0     | 0     | 0     | 0     | 0     | 0     | 0     | 0     | 0     | 1     | 0     | 0     | 1.6740\n",
            "durante        | 0     | 0     | 0     | 0     | 0     | 0     | 0     | 0     | 0     | 0     | 0     | 0     | 0     | 0     | 0     | 1     | 2.0794\n",
            "ecologico      | 1     | 0     | 0     | 0     | 0     | 0     | 0     | 0     | 0     | 0     | 0     | 0     | 0     | 0     | 0     | 0     | 2.0794\n",
            "ecuador        | 1     | 0     | 0     | 0     | 0     | 0     | 0     | 0     | 0     | 0     | 0     | 0     | 0     | 0     | 0     | 0     | 2.0794\n",
            "ecuatorianos   | 0     | 0     | 0     | 0     | 0     | 0     | 0     | 0     | 0     | 0     | 0     | 1     | 0     | 0     | 0     | 0     | 2.0794\n",
            "el             | 1     | 1     | 0     | 0     | 0     | 0     | 0     | 1     | 1     | 0     | 0     | 1     | 1     | 1     | 2     | 0     | 0.5754\n",
            "en             | 0     | 0     | 0     | 1     | 0     | 0     | 0     | 0     | 0     | 0     | 0     | 1     | 0     | 1     | 1     | 0     | 1.1632\n",
            "entre          | 0     | 0     | 0     | 0     | 0     | 0     | 0     | 0     | 0     | 0     | 0     | 0     | 1     | 0     | 0     | 0     | 2.0794\n",
            "es             | 1     | 0     | 0     | 0     | 0     | 1     | 0     | 0     | 1     | 0     | 0     | 0     | 0     | 0     | 0     | 0     | 1.3863\n",
            "excursionistas | 0     | 0     | 0     | 0     | 0     | 0     | 0     | 1     | 0     | 0     | 0     | 0     | 0     | 0     | 0     | 0     | 2.0794\n",
            "exploracion    | 0     | 0     | 0     | 0     | 0     | 0     | 0     | 0     | 1     | 0     | 0     | 0     | 0     | 0     | 0     | 0     | 2.0794\n",
            "famosas        | 0     | 0     | 0     | 0     | 1     | 0     | 0     | 0     | 0     | 0     | 0     | 0     | 0     | 0     | 0     | 0     | 2.0794\n",
            "famoso         | 0     | 0     | 0     | 0     | 0     | 1     | 0     | 0     | 0     | 0     | 0     | 0     | 0     | 0     | 0     | 0     | 2.0794\n",
            "feriado        | 0     | 0     | 0     | 0     | 0     | 0     | 0     | 0     | 0     | 0     | 0     | 1     | 0     | 1     | 0     | 0     | 1.6740\n",
            "feriados       | 0     | 0     | 0     | 0     | 0     | 0     | 0     | 0     | 0     | 0     | 0     | 0     | 0     | 0     | 0     | 1     | 2.0794\n",
            "fiestas        | 0     | 0     | 0     | 0     | 0     | 0     | 0     | 0     | 0     | 0     | 0     | 0     | 0     | 1     | 0     | 0     | 2.0794\n",
            "galapagos      | 0     | 1     | 0     | 0     | 0     | 0     | 0     | 0     | 0     | 0     | 0     | 0     | 0     | 0     | 0     | 0     | 2.0794\n",
            "gastronomia    | 0     | 0     | 0     | 0     | 0     | 0     | 1     | 0     | 0     | 0     | 0     | 0     | 0     | 1     | 0     | 0     | 1.6740\n",
            "gran           | 0     | 0     | 0     | 0     | 0     | 0     | 0     | 0     | 0     | 0     | 0     | 0     | 1     | 0     | 0     | 0     | 2.0794\n",
            "guayaquil      | 0     | 0     | 0     | 0     | 0     | 0     | 0     | 0     | 0     | 1     | 0     | 0     | 0     | 0     | 0     | 0     | 2.0794\n",
            "historico      | 0     | 0     | 1     | 0     | 0     | 0     | 0     | 0     | 0     | 0     | 0     | 0     | 0     | 0     | 0     | 0     | 2.0794\n",
            "humanidad      | 0     | 0     | 1     | 0     | 0     | 0     | 0     | 0     | 0     | 0     | 0     | 0     | 0     | 0     | 0     | 0     | 2.0794\n",
            "ideales        | 1     | 0     | 0     | 0     | 0     | 0     | 0     | 0     | 0     | 0     | 0     | 0     | 0     | 0     | 0     | 0     | 2.0794\n",
            "impacta        | 0     | 0     | 0     | 0     | 0     | 0     | 0     | 0     | 0     | 0     | 1     | 0     | 0     | 0     | 0     | 0     | 2.0794\n",
            "impresionantes | 0     | 0     | 0     | 0     | 0     | 0     | 0     | 1     | 0     | 0     | 0     | 0     | 0     | 0     | 0     | 0     | 2.0794\n",
            "indigena       | 0     | 0     | 0     | 0     | 0     | 1     | 0     | 0     | 0     | 0     | 0     | 0     | 0     | 0     | 0     | 0     | 2.0794\n",
            "indigenas      | 0     | 0     | 0     | 0     | 0     | 0     | 0     | 0     | 0     | 0     | 0     | 1     | 0     | 0     | 0     | 0     | 2.0794\n",
            "interesados    | 0     | 0     | 0     | 0     | 0     | 0     | 0     | 0     | 0     | 0     | 0     | 0     | 0     | 0     | 1     | 0     | 2.0794\n",
            "invita         | 0     | 0     | 0     | 0     | 0     | 0     | 0     | 0     | 0     | 0     | 0     | 0     | 1     | 0     | 0     | 0     | 2.0794\n",
            "islas          | 0     | 1     | 0     | 0     | 0     | 0     | 0     | 0     | 0     | 0     | 0     | 0     | 0     | 0     | 0     | 0     | 2.0794\n",
            "jovenes        | 0     | 0     | 0     | 0     | 0     | 0     | 0     | 0     | 0     | 0     | 0     | 0     | 0     | 0     | 0     | 1     | 2.0794\n",
            "la             | 0     | 0     | 3     | 0     | 1     | 0     | 0     | 0     | 1     | 0     | 1     | 1     | 0     | 1     | 2     | 0     | 0.6931\n",
            "laguna         | 0     | 0     | 0     | 0     | 0     | 0     | 0     | 0     | 0     | 0     | 1     | 0     | 0     | 0     | 0     | 0     | 2.0794\n",
            "lagunas        | 0     | 0     | 0     | 0     | 0     | 0     | 0     | 0     | 0     | 0     | 0     | 0     | 1     | 0     | 0     | 0     | 2.0794\n",
            "las            | 0     | 1     | 0     | 0     | 0     | 0     | 0     | 1     | 0     | 1     | 0     | 0     | 0     | 1     | 0     | 0     | 1.1632\n",
            "llena          | 0     | 0     | 0     | 0     | 0     | 0     | 0     | 0     | 0     | 0     | 0     | 0     | 0     | 0     | 0     | 1     | 2.0794\n",
            "locales        | 0     | 0     | 0     | 0     | 0     | 0     | 0     | 0     | 0     | 0     | 0     | 0     | 0     | 1     | 0     | 0     | 2.0794\n",
            "longevidad     | 0     | 0     | 0     | 0     | 0     | 0     | 0     | 0     | 0     | 0     | 0     | 0     | 0     | 0     | 1     | 0     | 2.0794\n",
            "lopez          | 0     | 0     | 0     | 0     | 1     | 0     | 0     | 0     | 0     | 0     | 0     | 0     | 0     | 0     | 0     | 0     | 2.0794\n",
            "los            | 0     | 0     | 0     | 1     | 0     | 0     | 1     | 2     | 0     | 0     | 0     | 0     | 1     | 1     | 0     | 1     | 0.8267\n",
            "malecon        | 0     | 0     | 0     | 0     | 0     | 0     | 0     | 0     | 0     | 1     | 0     | 0     | 0     | 0     | 0     | 0     | 2.0794\n",
            "mas            | 0     | 0     | 0     | 0     | 0     | 0     | 0     | 1     | 0     | 0     | 0     | 0     | 0     | 0     | 0     | 0     | 2.0794\n",
            "megadiverso    | 1     | 0     | 0     | 0     | 0     | 0     | 0     | 0     | 0     | 0     | 0     | 0     | 0     | 0     | 0     | 0     | 2.0794\n",
            "mercado        | 0     | 0     | 0     | 0     | 0     | 1     | 0     | 0     | 0     | 0     | 0     | 0     | 0     | 0     | 0     | 0     | 2.0794\n",
            "mindo          | 0     | 0     | 0     | 0     | 0     | 0     | 0     | 0     | 1     | 0     | 0     | 0     | 0     | 0     | 0     | 0     | 2.0794\n",
            "montanas       | 1     | 0     | 0     | 0     | 0     | 0     | 0     | 0     | 0     | 0     | 0     | 0     | 0     | 0     | 0     | 0     | 2.0794\n",
            "montanita      | 0     | 0     | 0     | 0     | 1     | 0     | 0     | 0     | 0     | 0     | 0     | 0     | 0     | 0     | 0     | 1     | 1.6740\n",
            "muchos         | 0     | 0     | 0     | 0     | 0     | 0     | 0     | 0     | 0     | 0     | 0     | 1     | 0     | 0     | 0     | 0     | 2.0794\n",
            "mundo          | 0     | 1     | 0     | 0     | 0     | 0     | 0     | 0     | 0     | 0     | 0     | 0     | 0     | 0     | 0     | 0     | 2.0794\n",
            "nacional       | 0     | 0     | 0     | 0     | 0     | 0     | 0     | 0     | 0     | 0     | 0     | 0     | 1     | 0     | 0     | 0     | 2.0794\n",
            "nacionales     | 0     | 0     | 0     | 0     | 0     | 0     | 0     | 0     | 0     | 0     | 0     | 0     | 0     | 0     | 0     | 1     | 2.0794\n",
            "naturaleza     | 0     | 0     | 0     | 0     | 0     | 0     | 0     | 0     | 0     | 0     | 0     | 0     | 0     | 0     | 1     | 0     | 2.0794\n",
            "nocturna       | 0     | 0     | 0     | 0     | 0     | 0     | 0     | 0     | 0     | 1     | 0     | 0     | 0     | 0     | 0     | 0     | 2.0794\n",
            "nublados       | 0     | 0     | 0     | 0     | 0     | 0     | 0     | 0     | 1     | 0     | 0     | 0     | 0     | 0     | 0     | 0     | 2.0794\n",
            "ofrece         | 0     | 0     | 0     | 0     | 0     | 0     | 0     | 1     | 0     | 0     | 0     | 0     | 0     | 0     | 0     | 0     | 2.0794\n",
            "otavalo        | 0     | 0     | 0     | 0     | 0     | 1     | 0     | 0     | 0     | 0     | 0     | 0     | 0     | 0     | 0     | 0     | 2.0794\n",
            "pacifico       | 0     | 0     | 0     | 0     | 0     | 0     | 0     | 0     | 0     | 1     | 0     | 0     | 0     | 0     | 0     | 0     | 2.0794\n",
            "pais           | 1     | 0     | 0     | 0     | 0     | 0     | 0     | 0     | 0     | 0     | 0     | 0     | 0     | 0     | 0     | 0     | 2.0794\n",
            "para           | 1     | 0     | 0     | 0     | 0     | 0     | 0     | 0     | 1     | 0     | 0     | 1     | 0     | 0     | 0     | 0     | 1.3863\n",
            "paraiso        | 0     | 0     | 0     | 0     | 0     | 0     | 0     | 0     | 1     | 0     | 0     | 0     | 0     | 0     | 0     | 0     | 2.0794\n",
            "paramos        | 0     | 0     | 0     | 0     | 0     | 0     | 0     | 0     | 0     | 0     | 0     | 0     | 1     | 0     | 0     | 0     | 2.0794\n",
            "parque         | 0     | 0     | 0     | 0     | 0     | 0     | 0     | 0     | 0     | 0     | 0     | 0     | 1     | 0     | 0     | 0     | 2.0794\n",
            "patrimonio     | 0     | 0     | 1     | 0     | 0     | 0     | 0     | 0     | 0     | 0     | 0     | 0     | 0     | 0     | 0     | 0     | 2.0794\n",
            "playas         | 1     | 0     | 0     | 0     | 1     | 0     | 0     | 0     | 0     | 1     | 0     | 0     | 0     | 0     | 0     | 0     | 1.3863\n",
            "por            | 0     | 1     | 1     | 0     | 0     | 1     | 0     | 0     | 0     | 0     | 0     | 0     | 0     | 0     | 0     | 0     | 1.3863\n",
            "puerto         | 0     | 0     | 0     | 0     | 1     | 0     | 0     | 0     | 0     | 0     | 0     | 0     | 0     | 0     | 0     | 0     | 2.0794\n",
            "quilotoa       | 0     | 0     | 0     | 0     | 0     | 0     | 0     | 0     | 0     | 0     | 1     | 0     | 0     | 0     | 0     | 0     | 2.0794\n",
            "quito          | 0     | 0     | 1     | 0     | 0     | 0     | 0     | 0     | 0     | 0     | 0     | 0     | 0     | 0     | 0     | 0     | 2.0794\n",
            "rafting        | 0     | 0     | 0     | 1     | 0     | 0     | 0     | 0     | 0     | 0     | 0     | 0     | 0     | 0     | 0     | 0     | 2.0794\n",
            "region         | 0     | 0     | 0     | 0     | 0     | 0     | 0     | 0     | 0     | 0     | 0     | 0     | 0     | 1     | 0     | 0     | 2.0794\n",
            "ruta           | 0     | 0     | 0     | 0     | 1     | 0     | 0     | 0     | 0     | 0     | 0     | 0     | 0     | 0     | 0     | 0     | 2.0794\n",
            "salinas        | 0     | 0     | 0     | 0     | 1     | 0     | 0     | 0     | 0     | 0     | 0     | 0     | 0     | 0     | 0     | 0     | 2.0794\n",
            "santa          | 0     | 0     | 0     | 1     | 0     | 0     | 0     | 0     | 0     | 0     | 0     | 0     | 0     | 0     | 0     | 0     | 2.0794\n",
            "se             | 0     | 0     | 0     | 0     | 0     | 0     | 0     | 0     | 0     | 0     | 0     | 0     | 0     | 0     | 0     | 1     | 2.0794\n",
            "selvas         | 1     | 0     | 0     | 0     | 0     | 0     | 0     | 0     | 0     | 0     | 0     | 0     | 0     | 0     | 0     | 0     | 2.0794\n",
            "senderos       | 0     | 0     | 0     | 0     | 0     | 0     | 0     | 0     | 0     | 0     | 1     | 0     | 0     | 0     | 0     | 0     | 2.0794\n",
            "sorprende      | 0     | 0     | 0     | 0     | 0     | 0     | 0     | 0     | 0     | 1     | 0     | 0     | 0     | 0     | 0     | 0     | 2.0794\n",
            "spondylus      | 0     | 0     | 0     | 0     | 1     | 0     | 0     | 0     | 0     | 0     | 0     | 0     | 0     | 0     | 0     | 0     | 2.0794\n",
            "su             | 0     | 1     | 0     | 0     | 0     | 2     | 2     | 0     | 0     | 3     | 1     | 0     | 0     | 0     | 0     | 0     | 0.9808\n",
            "surfistas      | 0     | 0     | 0     | 0     | 0     | 0     | 0     | 0     | 0     | 0     | 0     | 0     | 0     | 0     | 0     | 1     | 2.0794\n",
            "tipica         | 0     | 0     | 0     | 0     | 0     | 0     | 0     | 0     | 0     | 0     | 0     | 0     | 0     | 1     | 0     | 0     | 2.0794\n",
            "todo           | 0     | 1     | 0     | 0     | 0     | 0     | 0     | 0     | 0     | 0     | 0     | 0     | 0     | 0     | 0     | 0     | 2.0794\n",
            "tradicional    | 0     | 0     | 0     | 0     | 0     | 0     | 1     | 0     | 0     | 0     | 0     | 0     | 0     | 0     | 0     | 0     | 2.0794\n",
            "trekking       | 0     | 0     | 0     | 0     | 0     | 0     | 0     | 0     | 0     | 0     | 1     | 0     | 0     | 0     | 0     | 0     | 2.0794\n",
            "turismo        | 1     | 0     | 0     | 0     | 0     | 0     | 0     | 0     | 0     | 0     | 0     | 0     | 0     | 0     | 0     | 0     | 2.0794\n",
            "turistas       | 0     | 0     | 0     | 1     | 0     | 0     | 1     | 0     | 0     | 0     | 0     | 0     | 1     | 1     | 0     | 0     | 1.1632\n",
            "turquesa       | 0     | 0     | 0     | 0     | 0     | 0     | 0     | 0     | 0     | 0     | 1     | 0     | 0     | 0     | 0     | 0     | 2.0794\n",
            "un             | 1     | 0     | 1     | 0     | 0     | 0     | 0     | 0     | 1     | 0     | 0     | 0     | 0     | 0     | 0     | 0     | 1.3863\n",
            "una            | 0     | 0     | 0     | 0     | 0     | 0     | 0     | 1     | 0     | 0     | 0     | 0     | 0     | 0     | 0     | 0     | 2.0794\n",
            "unesco         | 0     | 0     | 1     | 0     | 0     | 0     | 0     | 0     | 0     | 0     | 0     | 0     | 0     | 0     | 0     | 0     | 2.0794\n",
            "unica          | 0     | 1     | 0     | 0     | 0     | 0     | 0     | 0     | 0     | 0     | 0     | 0     | 0     | 0     | 0     | 0     | 2.0794\n",
            "valle          | 0     | 0     | 0     | 0     | 0     | 0     | 0     | 0     | 0     | 0     | 0     | 0     | 0     | 0     | 1     | 0     | 2.0794\n",
            "viajeros       | 0     | 0     | 0     | 0     | 0     | 0     | 0     | 0     | 0     | 0     | 0     | 0     | 0     | 0     | 0     | 1     | 2.0794\n",
            "vibrante       | 0     | 0     | 0     | 0     | 0     | 1     | 0     | 0     | 0     | 0     | 0     | 0     | 0     | 0     | 0     | 0     | 2.0794\n",
            "vida           | 0     | 0     | 0     | 0     | 0     | 0     | 0     | 0     | 0     | 1     | 0     | 0     | 0     | 0     | 0     | 0     | 2.0794\n",
            "vilcabamba     | 0     | 0     | 0     | 0     | 0     | 0     | 0     | 0     | 0     | 0     | 0     | 0     | 0     | 0     | 1     | 0     | 2.0794\n",
            "visitan        | 0     | 0     | 0     | 0     | 0     | 0     | 0     | 0     | 0     | 0     | 0     | 1     | 0     | 0     | 0     | 0     | 2.0794\n",
            "visitantes     | 0     | 1     | 0     | 0     | 0     | 0     | 0     | 0     | 0     | 0     | 0     | 0     | 0     | 0     | 1     | 0     | 1.6740\n",
            "volcan         | 0     | 0     | 0     | 0     | 0     | 0     | 0     | 1     | 0     | 0     | 0     | 0     | 0     | 0     | 0     | 0     | 2.0794\n",
            "y              | 1     | 0     | 0     | 1     | 1     | 1     | 1     | 0     | 1     | 1     | 1     | 1     | 1     | 1     | 1     | 1     | 0.1335\n",
            "\n",
            "Total de Términos únicos: 145\n"
          ]
        }
      ]
    }
  ]
}