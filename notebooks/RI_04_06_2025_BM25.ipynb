{
  "nbformat": 4,
  "nbformat_minor": 0,
  "metadata": {
    "colab": {
      "provenance": []
    },
    "kernelspec": {
      "name": "python3",
      "display_name": "Python 3"
    },
    "language_info": {
      "name": "python"
    }
  },
  "cells": [
    {
      "cell_type": "markdown",
      "source": [
        "## ESCUELA POLITECNICA NACIONAL\n",
        "\n",
        "---\n",
        "\n",
        "Nombre: Anthony Reinoso"
      ],
      "metadata": {
        "id": "0BOKV4jWnP34"
      }
    },
    {
      "cell_type": "markdown",
      "source": [
        "## Ejercicio 4: Modelo Probabilístico\n",
        "###Objetivo de la práctica\n",
        "* Comprender los componentes del modelo vectorial mediante cálculos manuales y observación directa.\n",
        "* Aplicar el modelo de espacio vectorial con TF-IDF para recuperar documentos relevantes.\n",
        "* Comparar la recuperación con BM25 frente a TF-IDF.\n",
        "* Analizar visualmente las diferencias entre los modelos.\n",
        "* Evaluar si los rankings generados son consistentes con lo que considerarías documentos relevantes."
      ],
      "metadata": {
        "id": "w65-PkSGnWwx"
      }
    },
    {
      "cell_type": "markdown",
      "source": [
        "###Parte 0: Carga del Corpus"
      ],
      "metadata": {
        "id": "AkLsnBjlnmXT"
      }
    },
    {
      "cell_type": "code",
      "source": [
        "from sklearn.datasets import fetch_20newsgroups\n",
        "\n",
        "newsgroups = fetch_20newsgroups(subset='all', remove=('headers', 'footers', 'quotes'))\n",
        "newsgroupsdocs = newsgroups.data"
      ],
      "metadata": {
        "id": "AxOpSU5mnlyN"
      },
      "execution_count": 37,
      "outputs": []
    },
    {
      "cell_type": "markdown",
      "source": [
        "##Parte 1: Cálculo de TF, DF, IDF y TF-IDF\n",
        "###Actividad\n",
        "* Utiliza el corpus cargado.\n",
        "* Construye la matriz de términos (TF), y calcula la frecuencia de documentos (DF)\n",
        "* Calcula TF-IDF utilizando sklearn.\n",
        "* Visualiza los valores en un DataFrame para analizar las diferencias entre los términos."
      ],
      "metadata": {
        "id": "JJ1YROhtoTSy"
      }
    },
    {
      "cell_type": "code",
      "execution_count": 38,
      "metadata": {
        "id": "OT8DkyMrmrTn"
      },
      "outputs": [],
      "source": [
        "import pandas as pd\n",
        "import numpy as np\n",
        "from sklearn.datasets import fetch_20newsgroups\n",
        "from sklearn.feature_extraction.text import TfidfVectorizer, CountVectorizer\n",
        "import sys"
      ]
    },
    {
      "cell_type": "code",
      "source": [
        "print(f\"Número de documentos: {len(newsgroupsdocs)}\")\n",
        "sys.getsizeof(newsgroupsdocs)\n",
        "print(f\"Tamaño en memoria del corpus: {sys.getsizeof(newsgroupsdocs)} bytes\")"
      ],
      "metadata": {
        "id": "q7NwEMTzqDHK",
        "colab": {
          "base_uri": "https://localhost:8080/"
        },
        "outputId": "f7e71d4c-8bb9-41a4-e4d4-40ae4c650399"
      },
      "execution_count": 39,
      "outputs": [
        {
          "output_type": "stream",
          "name": "stdout",
          "text": [
            "Número de documentos: 18846\n",
            "Tamaño en memoria del corpus: 150824 bytes\n"
          ]
        }
      ]
    },
    {
      "cell_type": "code",
      "source": [
        "print(\"\\n=== Matriz de Términos (TF) ===\\n\")\n",
        "count_vectorizer = CountVectorizer(max_features=100)  # Limitamos a 100 términos para visualización práctica\n",
        "tf_matrix = count_vectorizer.fit_transform(newsgroupsdocs)\n",
        "terms = count_vectorizer.get_feature_names_out()\n",
        "# DataFrame\n",
        "tf_df = pd.DataFrame.sparse.from_spmatrix(tf_matrix, columns=terms)\n",
        "print(\"Dimensiones de la matriz TF:\", tf_df.shape)\n",
        "print(\"\\nVisualización parcial de la matriz TF (primeros 5 documentos):\")\n",
        "print(tf_df.iloc[:5, :10].to_string())  # Mostramos solo una porción para visualización\n",
        "\n",
        "# Calcula Frecuencia de Documentos (DF)\n",
        "print(\"\\n=== Frecuencia de Documentos (DF) ===\\n\")\n",
        "df = (tf_matrix > 0).sum(axis=0)\n",
        "df_series = pd.Series(np.array(df).flatten(), index=terms, name='DF')\n",
        "\n",
        "print(\"20 términos más frecuentes:\")\n",
        "print(df_series.sort_values(ascending=False).head(20).to_string())\n"
      ],
      "metadata": {
        "id": "4YeYuyN8qDyU",
        "colab": {
          "base_uri": "https://localhost:8080/"
        },
        "outputId": "f599ea86-eada-4033-ee57-106313aaca24"
      },
      "execution_count": 53,
      "outputs": [
        {
          "output_type": "stream",
          "name": "stdout",
          "text": [
            "\n",
            "=== Matriz de Términos (TF) ===\n",
            "\n",
            "Dimensiones de la matriz TF: (18846, 100)\n",
            "\n",
            "Visualización parcial de la matriz TF (primeros 5 documentos):\n",
            "   about  all  also  am  an  and  any  are  as  at\n",
            "0      2    0     1   3   1    1    1    3   0   0\n",
            "1      0    0     0   0   0    0    1    0   0   0\n",
            "2      2    0     0   0   0    8    0    1   0   0\n",
            "3      0    0     0   0   2    3    1    1   0   0\n",
            "4      0    0     0   0   3    0    0    0   1   0\n",
            "\n",
            "=== Frecuencia de Documentos (DF) ===\n",
            "\n",
            "20 términos más frecuentes:\n",
            "the     15749\n",
            "to      14108\n",
            "and     12991\n",
            "of      12809\n",
            "in      11842\n",
            "is      11685\n",
            "it      11029\n",
            "that    10974\n",
            "for     10406\n",
            "have     8722\n",
            "this     8665\n",
            "on       8596\n",
            "you      8447\n",
            "be       8140\n",
            "with     8063\n",
            "not      7664\n",
            "are      7404\n",
            "but      7395\n",
            "if       7383\n",
            "or       7177\n"
          ]
        }
      ]
    },
    {
      "cell_type": "code",
      "source": [
        "# Calcula TF-IDF con Sklearn\n",
        "print(\"\\n=== Matriz TF-IDF ===\\n\")\n",
        "tfidf_vectorizer = TfidfVectorizer(max_features=100)\n",
        "tfidf_matrix = tfidf_vectorizer.fit_transform(newsgroupsdocs)# Vectorizador del corpus\n",
        "tfidf_terms = tfidf_vectorizer.get_feature_names_out()\n",
        "\n",
        "# DataFrame\n",
        "tfidf_df = pd.DataFrame.sparse.from_spmatrix(tfidf_matrix, columns=tfidf_terms)\n",
        "print(\"Dimensiones de la matriz TF-IDF:\", tfidf_df.shape)\n",
        "print(\"\\nVisualización parcial de la matriz TF-IDF (primeros 5 documentos):\")\n",
        "print(tfidf_df.iloc[:5, :10].to_string())\n"
      ],
      "metadata": {
        "id": "JZZjH5bBqHUL",
        "colab": {
          "base_uri": "https://localhost:8080/"
        },
        "outputId": "0d09cacd-ecff-47c6-9f21-b53a2cdde431"
      },
      "execution_count": 54,
      "outputs": [
        {
          "output_type": "stream",
          "name": "stdout",
          "text": [
            "\n",
            "=== Matriz TF-IDF ===\n",
            "\n",
            "Dimensiones de la matriz TF-IDF: (18846, 100)\n",
            "\n",
            "Visualización parcial de la matriz TF-IDF (primeros 5 documentos):\n",
            "      about  all      also        am        an       and       any       are        as  at\n",
            "0  0.183814    0  0.109705  0.359041  0.087364  0.054508  0.094365  0.230526         0   0\n",
            "1         0    0         0         0         0         0  0.323796         0         0   0\n",
            "2   0.11795    0         0         0         0  0.279811         0  0.049308         0   0\n",
            "3         0    0         0         0  0.146782  0.137369  0.079272  0.064552         0   0\n",
            "4         0    0         0         0  0.237271         0         0         0  0.074508   0\n"
          ]
        }
      ]
    },
    {
      "cell_type": "code",
      "source": [
        "print(\"\\n=== Análisis Comparativo ===\")\n",
        "comparison_terms = ['the', 'god']\n",
        "\n",
        "# DataFrame comparativo\n",
        "comparison_data = {\n",
        "    'Término': comparison_terms,\n",
        "    'DF': [df_series[term] for term in comparison_terms],\n",
        "    'IDF': [tfidf_vectorizer.idf_[tfidf_vectorizer.vocabulary_[term]] for term in comparison_terms],\n",
        "    'TF Promedio': [tf_matrix[:, count_vectorizer.vocabulary_[term]].mean() for term in comparison_terms],\n",
        "    'TF-IDF Promedio': [tfidf_matrix[:, tfidf_vectorizer.vocabulary_[term]].mean() for term in comparison_terms]\n",
        "}\n",
        "\n",
        "comparison_df = pd.DataFrame(comparison_data)\n",
        "print(\"\\nComparación entre términos seleccionados:\")\n",
        "print(comparison_df.to_string(index=False))"
      ],
      "metadata": {
        "id": "NlZh_lW0qL1R",
        "colab": {
          "base_uri": "https://localhost:8080/"
        },
        "outputId": "97dd2589-d120-409c-feac-bd87357c4125"
      },
      "execution_count": 55,
      "outputs": [
        {
          "output_type": "stream",
          "name": "stdout",
          "text": [
            "\n",
            "=== Análisis Comparativo ===\n",
            "\n",
            "Comparación entre términos seleccionados:\n",
            "Término    DF      IDF  TF Promedio  TF-IDF Promedio\n",
            "    the 15749 1.179513     9.211079         0.281432\n",
            "    god   947 3.989755     0.180357         0.012589\n"
          ]
        }
      ]
    },
    {
      "cell_type": "markdown",
      "source": [
        "## Parte 2: Ranking de documentos usando TF-IDF\n",
        "###Actividad\n",
        "1. Dada una consulta, construye el vector de consulta\n",
        "2. Calcula la similitud coseno entre la consulta y cada documento usando los vectores TF-IDF\n",
        "3. Genera un ranking de los documentos ordenados por relevancia.\n",
        "4. Muestra los resultados en una tabla."
      ],
      "metadata": {
        "id": "33Czk867nPNE"
      }
    },
    {
      "cell_type": "code",
      "source": [
        "# Convierte una consulta en un vector TF-IDF usando el vectorizer existente\n",
        "def get_query_vector(query, tfidf_vectorizer):\n",
        "\n",
        "  query_vec = tfidf_vectorizer.transform([query])#  consulta con el vectorizador ya entrenado\n",
        "  return query_vec\n"
      ],
      "metadata": {
        "id": "R_J2BiKD1F1v"
      },
      "execution_count": 56,
      "outputs": []
    },
    {
      "cell_type": "code",
      "source": [
        "# Calcula similitud coseno y rankear documentos (sin normalización explícita)\n",
        "def rank_documents(query, tfidf_vectorizer, tfidf_matrix, docs, top_n=10):\n",
        "\n",
        "    print(\"\\n=== Dimensiones de la matriz TF-IDF ===\")\n",
        "    print(\"Filas (documentos):\", tfidf_matrix.shape[0])\n",
        "    print(\"Columnas (términos):\", tfidf_matrix.shape[1])\n",
        "\n",
        "    # Obtener vector de consulta\n",
        "    query_vec = get_query_vector(query, tfidf_vectorizer)\n",
        "\n",
        "    # Calcular similitud coseno directamente (sin normalizar la matriz)\n",
        "    similarities = cosine_similarity(query_vec, tfidf_matrix).flatten()\n",
        "    distances = 1 - similarities  # Distancia = 1 - similitud\n",
        "\n",
        "    # Obtener índices ordenados por similitud descendente\n",
        "    ranked_indices = similarities.argsort()[::-1]\n",
        "\n",
        "    # Crear DataFrame con resultados\n",
        "    results = pd.DataFrame({\n",
        "        'Rank': range(1, top_n + 1),\n",
        "        'Similitud': similarities[ranked_indices][:top_n],\n",
        "        'Doc ID': ranked_indices[:top_n],\n",
        "        'Fragmento': [get_normalized_snippet(docs[i]) for i in ranked_indices[:top_n]]\n",
        "    })\n",
        "\n",
        "    return results"
      ],
      "metadata": {
        "id": "8gLtWatk2swP"
      },
      "execution_count": 57,
      "outputs": []
    },
    {
      "cell_type": "code",
      "source": [
        "print(\"\\n=== Ranking de Documentos usando TF-IDF ===\")\n",
        "\n",
        "sample_queries = [\n",
        "    \"New Jersey\"\n",
        "]\n",
        "\n",
        "for query in sample_queries:\n",
        "    print(f\"\\n{'='*80}\")\n",
        "    print(f\"\\nConsulta: '{query}'\")\n",
        "    ranked_results = rank_documents(\n",
        "        query=query,\n",
        "        tfidf_vectorizer=tfidf_vectorizer,\n",
        "        tfidf_matrix=tfidf_matrix,\n",
        "        docs=newsgroupsdocs,\n",
        "        top_n=50\n",
        "    )\n",
        "    print(ranked_results.to_string(index=False))\n"
      ],
      "metadata": {
        "id": "Qt0kExlk3lbr",
        "colab": {
          "base_uri": "https://localhost:8080/"
        },
        "outputId": "528398e9-b612-482a-b576-10e84bcfe7ae"
      },
      "execution_count": 58,
      "outputs": [
        {
          "output_type": "stream",
          "name": "stdout",
          "text": [
            "\n",
            "=== Ranking de Documentos usando TF-IDF ===\n",
            "\n",
            "================================================================================\n",
            "\n",
            "Consulta: 'New Jersey'\n",
            "\n",
            "=== Dimensiones de la matriz TF-IDF ===\n",
            "Filas (documentos): 18846\n",
            "Columnas (términos): 100\n",
            " Rank  Similitud  Doc ID                                                                                               Fragmento\n",
            "    1   1.000000   13771                                                           nz new zealand au australia jp japan kr korea\n",
            "    2   1.000000    2457 final american hockey leagu stand northern divis w l t pt gf ga lyf provid bruin adirondack red wing...\n",
            "    3   0.940202    2270 porsch turbo trim spoiler graphit black all around excel condit remov factori sunroof leather interi...\n",
            "    4   0.932143    1371 earli to mid june if they think the public want to see it they will carri it whi not write them and ...\n",
            "    5   0.905692    4393                                                                                 in glassboro new jersey\n",
            "    6   0.891176   18013 hi everyon here are some book for sale all price are negoti ship fee is not includ signal and system...\n",
            "    7   0.864051    3549 mlb stand and score for tuesday april th includ yesterday game nation west won lost pct gb last stre...\n",
            "    8   0.859668    6481 mlb stand and score for thursday april th includ yesterday game nation west won lost pct gb last str...\n",
            "    9   0.859668   16509 mlb stand and score for satruday april th includ yesterday game nation west won lost pct gb last str...\n",
            "   10   0.859668    8168 mlb stand and score for friday april rd includ yesterday game nation west won lost pct gb last strea...\n",
            "   11   0.859668   14099 mlb stand and score for wednesday april st includ yesterday game nation west won lost pct gb last st...\n",
            "   12   0.859668     498 mlb stand and score for friday april th includ yesterday game nation west won lost pct gb last strea...\n",
            "   13   0.855436   18613                                           i have new smc e arcnet card for sale they are brand new each\n",
            "   14   0.854972    9604 philadelphia hartford first period hartford nyland unassist philadelphia recchi lindro brindamour pp...\n",
            "   15   0.841787    4950 boston ottawa first period boston robert juneau boston wiemer juneau oat second period boston neeli ...\n",
            "   16   0.828821    5108                                                            pair of polk s for sale brand new never open\n",
            "   17   0.824836     385 nhl result for game play stand patrick adam norri smyth tm w l t pt tm w l t pt tm w l t pt tm w l t...\n",
            "   18   0.818900   11373 honda accord for sale dr steel grey honda accord k mile speed manual give around mpg brand new clutc...\n",
            "   19   0.814306   15683 thank for the peopl who have enter thi year team pool here is a summari of what wa pick st round pit...\n",
            "   20   0.812326     119                                                              hmm new duo machin to be releas sincer lar\n",
            "   21   0.808943   10334 note saturday april th score should be sent out by thi come friday mlb stand and score for tuesday a...\n",
            "   22   0.801330    9218 nhl result for game play stand patrick adam norri smyth tm w l t pt tm w l t pt tm w l t pt tm w l t...\n",
            "   23   0.795655   17626             i have a new open box test drive toshiba mkfb disk for sale mb format ms scsi year warranti\n",
            "   24   0.793417    9027 most of these are cs book there are also some math and physic book for book mark as new the condit i...\n",
            "   25   0.790872    3547 i have a hewlettpackard laserjet seri ii paper tray for sale it letter size brand new in the box and...\n",
            "   26   0.789584   18669 i am post thi for a friend pleas do not respond to me thank hous for sale brockton road mercervil ne...\n",
            "   27   0.779726   10498 texa instrument ti procalc new in box wmanual also texa instrument ti statist librari modul for proc...\n",
            "   28   0.777558    8805 integra ls for sale speed sunroof rear spoiler new tire k mile or best offer call email atthotsouppe...\n",
            "   29   0.775555    8326 updat april titl price alpha flight wolverin appear doubl size jim lee first work at marvel alien st...\n",
            "   30   0.770555   17810                                                        suggest tri expos the new age by dougla groothui\n",
            "   31   0.767348    4799 im look for brief inform on new applic of electron or new electron in applic if you know of ani inte...\n",
            "   32   0.766580    8202 brand new never been use seagat st ax meg hard drive forsal paid includ mount bracket i bought it an...\n",
            "   33   0.759539   13697             cd for sale jon bon jovi new jersey boomerang soundtrack the polic everi breath you take sh\n",
            "   34   0.749415    5494                        is the send of encrypt traffic without govern permiss legal in new zealand david\n",
            "   35   0.741595    1446 yodicet yodicet yodicet hmm you dont say l yeh buddi larrypslnmsuedu larri cunningham ive got your c...\n",
            "   36   0.738433    4703 heavyduti commerci tinyxx inch waterproof vhf watt channel handheld twoway radio motorola expo purch...\n",
            "   37   0.729644    1683 to avoid paperwork associ with recertif as a brand new car etc so for ad purpos it a brand new namep...\n",
            "   38   0.707850   13109 the follow comic are for auction the highest bid take them new stuff ad cyberrad marvel present spid...\n",
            "   39   0.704333   17258 the follow comic are for auction the highest bid take them new stuff ad oooooh the mr t premium comi...\n",
            "   40   0.702879   11669 as far as i know toronto pittsburgh and new york nl chang their uniform everi year everi other year ...\n",
            "   41   0.697011   15275 hous for sale by owner sell price owner steve and joyc harvey phone address ne ct vancouv washington...\n",
            "   42   0.695596    4381 karmann ghia thi car is in excel run condit mi on new engin new tire aug new clutch new carb origin ...\n",
            "   43   0.695596    7649 karmann ghia thi car is in excel run condit mi on new engin new tire aug new clutch new carb origin ...\n",
            "   44   0.689813    2876 honda crx dx white wblue int origin owner mile mostli highway recent tuneup new batteri oil chang ev...\n",
            "   45   0.684658    2553 home speaker o nht now hear thi inc model ii floor tower speaker system the model ii is a pair of wa...\n",
            "   46   0.682454    8112 for sale informix wingz graphic spreadsheet with hyperscript version run under window network readi ...\n",
            "   47   0.678135    7360 napa remanufactur larg barrel carburetor for bigblock dodg part new in box wmanifold gasket retail n...\n",
            "   48   0.674421   14687 mazda pickup rebuilt engin at mile new transmiss speed mile new brake new brake calip brand new clut...\n",
            "   49   0.668108    2339 updat april most comic here are price at below the overstreet price guid all comic are in near mint ...\n",
            "   50   0.666128     150                                                         drink ride is dwi in new york here the limit is\n"
          ]
        }
      ]
    },
    {
      "cell_type": "markdown",
      "source": [
        "##Parte 3: Ranking con BM25\n",
        "###Actividad\n",
        "1. Implementa un sistema de recuperación usando el modelo BM25.\n",
        "2. Usa la misma consulta del ejercicio anterior.\n",
        "3. Calcula el score BM25 para cada documento y genera un ranking.\n",
        "4. Compara manualmente con el ranking de TF-IDF."
      ],
      "metadata": {
        "id": "0XGTfvnY-jgp"
      }
    },
    {
      "cell_type": "code",
      "source": [
        "!pip install rank-bm25"
      ],
      "metadata": {
        "colab": {
          "base_uri": "https://localhost:8080/"
        },
        "id": "KyHAs7ieyeQU",
        "outputId": "0bb5bce2-a5a7-465c-8951-9af63e6bed76"
      },
      "execution_count": null,
      "outputs": [
        {
          "output_type": "stream",
          "name": "stdout",
          "text": [
            "Collecting rank-bm25\n",
            "  Downloading rank_bm25-0.2.2-py3-none-any.whl.metadata (3.2 kB)\n",
            "Requirement already satisfied: numpy in /usr/local/lib/python3.11/dist-packages (from rank-bm25) (2.0.2)\n",
            "Downloading rank_bm25-0.2.2-py3-none-any.whl (8.6 kB)\n",
            "Installing collected packages: rank-bm25\n",
            "Successfully installed rank-bm25-0.2.2\n"
          ]
        }
      ]
    },
    {
      "cell_type": "code",
      "source": [
        "from rank_bm25 import BM25Okapi\n",
        "import pandas as pd\n",
        "\n",
        "# Tokenizar corpus sin normalización\n",
        "tokenized_corpus = [doc.split() for doc in newsgroupsdocs]\n",
        "bm25 = BM25Okapi(tokenized_corpus)\n",
        "\n",
        "# Ranking con BM25 sin normalización\n",
        "def rank_bm25(query, corpus, bm25_model, top_n=5):\n",
        "    tokenized_query = query.split()  # sin normalizar\n",
        "    scores = bm25_model.get_scores(tokenized_query)\n",
        "\n",
        "    ranked_indices = sorted(range(len(scores)), key=lambda i: scores[i], reverse=True)[:top_n]\n",
        "\n",
        "    results = pd.DataFrame({\n",
        "        'BM25 Score': [scores[i] for i in ranked_indices],\n",
        "        'Fragmento': [get_normalized_snippet(corpus[i]) for i in ranked_indices],\n",
        "        'Doc ID': ranked_indices\n",
        "    })\n",
        "\n",
        "    return results\n",
        "\n",
        "# Obtener resultados BM25\n",
        "bm25_results = rank_bm25(query, newsgroupsdocs, bm25)\n",
        "print(\"\\nResultados BM25:\")\n",
        "print(bm25_results[['BM25 Score', 'Fragmento']].head().to_string(index=False))\n",
        "\n",
        "# Comparación con TF-IDF (usando el código anterior)\n",
        "tfidf_results = rank_documents(query, tfidf_vectorizer, tfidf_matrix, newsgroupsdocs)\n",
        "print(\"\\nResultados TF-IDF:\")\n",
        "print(tfidf_results[['Rank', 'Similitud', 'Fragmento']].head().to_string(index=False))\n",
        "\n",
        "# Comparación manual\n",
        "print(\"\\nComparación:\")\n",
        "print(\"1. BM25 considera frecuencia de términos y longitud de documento\")\n",
        "print(\"2. TF-IDF normaliza por frecuencia en documento y corpus\")\n",
        "print(\"3. BM25 generalmente funciona mejor para consultas cortas\")"
      ],
      "metadata": {
        "id": "AJXYrXnZAfQ9",
        "colab": {
          "base_uri": "https://localhost:8080/"
        },
        "outputId": "d218ac58-fab1-41b8-8e22-ec2dc3fe054c"
      },
      "execution_count": 61,
      "outputs": [
        {
          "output_type": "stream",
          "name": "stdout",
          "text": [
            "\n",
            "Resultados BM25:\n",
            " BM25 Score                                                                                               Fragmento\n",
            "  16.516238                                                                                 in glassboro new jersey\n",
            "  14.884210 doe anyon here know where i can find a modem and comm softwar for an appl iie i would prefer in manh...\n",
            "  14.825611 help im stuck here at a comput in new jersey and have no access to a radio or tv could someon kindli...\n",
            "  14.539404 s i have a toyota camri delux for sale k mile power everyth grey year newer than abov for k all high...\n",
            "  14.268785 everyon read thi if you have alreadi sent your predict pleas correct the patrick divis if you would ...\n",
            "\n",
            "=== Dimensiones de la matriz TF-IDF ===\n",
            "Filas (documentos): 18846\n",
            "Columnas (términos): 100\n",
            "\n",
            "Resultados TF-IDF:\n",
            " Rank  Similitud                                                                                               Fragmento\n",
            "    1   1.000000                                                           nz new zealand au australia jp japan kr korea\n",
            "    2   1.000000 final american hockey leagu stand northern divis w l t pt gf ga lyf provid bruin adirondack red wing...\n",
            "    3   0.940202 porsch turbo trim spoiler graphit black all around excel condit remov factori sunroof leather interi...\n",
            "    4   0.932143 earli to mid june if they think the public want to see it they will carri it whi not write them and ...\n",
            "    5   0.905692                                                                                 in glassboro new jersey\n",
            "\n",
            "Comparación:\n",
            "1. BM25 considera frecuencia de términos y longitud de documento\n",
            "2. TF-IDF normaliza por frecuencia en documento y corpus\n",
            "3. BM25 generalmente funciona mejor para consultas cortas\n"
          ]
        }
      ]
    },
    {
      "cell_type": "markdown",
      "source": [
        "# Parte 4: Comparación visual entre TF-IDF y BM25\n",
        "##Actividad\n",
        "1. Utiliza un gráfico de barras para visualizar los scores obtenidos por cada documento según TF-IDF y BM25.\n",
        "2. Compara los rankings visualmente.\n",
        "3. Identifica: ¿Qué documentos obtienen scores más altos en un modelo que en otro?\n",
        "4. Sugiere: ¿A qué se podría deber esta diferencia?"
      ],
      "metadata": {
        "id": "SGrIU4avzH_s"
      }
    },
    {
      "cell_type": "code",
      "source": [
        "import matplotlib.pyplot as plt"
      ],
      "metadata": {
        "id": "D7VWqo66ybYK"
      },
      "execution_count": null,
      "outputs": []
    },
    {
      "cell_type": "code",
      "source": [
        "top_n = 10\n",
        "tfidf_results = rank_documents(query, tfidf_vectorizer, tfidf_matrix, newsgroupsdocs, top_n=top_n)\n",
        "bm25_results = rank_bm25(query, newsgroupsdocs, bm25, top_n=top_n)\n",
        "\n",
        "# Unir los resultados por Doc ID\n",
        "merged = pd.merge(tfidf_results[['Doc ID', 'Similitud']],\n",
        "                  bm25_results[['Doc ID', 'BM25 Score']],\n",
        "                  on='Doc ID', how='outer').fillna(0)\n",
        "\n",
        "# Gráfico de barras\n",
        "x = merged['Doc ID'].astype(str)\n",
        "bar_width = 0.35\n",
        "indices = range(len(x))\n",
        "\n",
        "plt.figure(figsize=(12, 6))\n",
        "plt.bar([i - bar_width/2 for i in indices], merged['Similitud'], width=bar_width, label='TF-IDF')\n",
        "plt.bar([i + bar_width/2 for i in indices], merged['BM25 Score'], width=bar_width, label='BM25')\n",
        "\n",
        "plt.xticks(indices, x, rotation=45)\n",
        "plt.xlabel(\"Documento ID\")\n",
        "plt.ylabel(\"Score\")\n",
        "plt.title(\"Comparación de Scores TF-IDF vs BM25\")\n",
        "plt.legend()\n",
        "plt.grid(True)\n",
        "plt.tight_layout()\n",
        "plt.show()\n"
      ],
      "metadata": {
        "id": "Y0F9QT_2z4v2",
        "colab": {
          "base_uri": "https://localhost:8080/",
          "height": 676
        },
        "outputId": "a0965729-69d3-415a-e9b4-1744cb0265d9"
      },
      "execution_count": 63,
      "outputs": [
        {
          "output_type": "stream",
          "name": "stdout",
          "text": [
            "\n",
            "=== Dimensiones de la matriz TF-IDF ===\n",
            "Filas (documentos): 18846\n",
            "Columnas (términos): 100\n"
          ]
        },
        {
          "output_type": "display_data",
          "data": {
            "text/plain": [
              "<Figure size 1200x600 with 1 Axes>"
            ],
            "image/png": "[encoded data removed]"
          },
          "metadata": {}
        }
      ]
    },
    {
      "cell_type": "code",
      "source": [
        "merged['Mayor modelo'] = merged.apply(\n",
        "    lambda row: 'TF-IDF' if row['Similitud'] > row['BM25 Score'] else 'BM25', axis=1\n",
        ")\n",
        "print(\"\\nDocumento con mayor score por modelo:\")\n",
        "print(merged[['Doc ID', 'Similitud', 'BM25 Score', 'Mayor modelo']])\n"
      ],
      "metadata": {
        "colab": {
          "base_uri": "https://localhost:8080/"
        },
        "id": "8P2GDkxC7NEg",
        "outputId": "b7e9c9bd-092c-47b6-9d88-1a1a826886be"
      },
      "execution_count": 64,
      "outputs": [
        {
          "output_type": "stream",
          "name": "stdout",
          "text": [
            "\n",
            "Documento con mayor score por modelo:\n",
            "    Doc ID  Similitud  BM25 Score Mayor modelo\n",
            "0     1371   0.932143    0.000000       TF-IDF\n",
            "1     2270   0.940202    0.000000       TF-IDF\n",
            "2     2457   1.000000    0.000000       TF-IDF\n",
            "3     3440   0.000000   14.539404         BM25\n",
            "4     3549   0.864051    0.000000       TF-IDF\n",
            "5     4393   0.905692   16.516238         BM25\n",
            "6     5683   0.000000   14.264038         BM25\n",
            "7     6481   0.859668    0.000000       TF-IDF\n",
            "8     7476   0.000000   14.268785         BM25\n",
            "9     8168   0.859668    0.000000       TF-IDF\n",
            "10    9136   0.000000   14.825611         BM25\n",
            "11   10434   0.000000   14.884210         BM25\n",
            "12   11116   0.000000   13.998909         BM25\n",
            "13   11336   0.000000   13.497159         BM25\n",
            "14   13771   1.000000    0.000000       TF-IDF\n",
            "15   14920   0.000000   13.844510         BM25\n",
            "16   15683   0.000000   13.188184         BM25\n",
            "17   16509   0.859668    0.000000       TF-IDF\n",
            "18   18013   0.891176    0.000000       TF-IDF\n"
          ]
        }
      ]
    },
    {
      "cell_type": "markdown",
      "source": [
        "¿A qué se deben estas diferencias?\n",
        "- BM25 considera la longitud del documento (penaliza documentos largos)\n",
        "- BM25 tiene un límite superior para la frecuencia de términos\n",
        "- BM25 da más peso a términos raros que aparecen en documentos cortos\n",
        "- TF-IDF es más sensible a la frecuencia bruta de términos"
      ],
      "metadata": {
        "id": "zBi2ydD20D9Y"
      }
    },
    {
      "cell_type": "markdown",
      "source": [
        "# Parte 5: Evaluación con consulta relevante\n",
        "##Actividad\n",
        "1. Elige una consulta y define qué documentos del corpus deberían considerarse relevantes.\n",
        "2. Evalúa Precision@3 o MAP para los rankings generados con TF-IDF y BM25.\n",
        "3. Responde: ¿Cuál modelo da mejores resultados respecto a tu criterio de relevancia?"
      ],
      "metadata": {
        "id": "ZnmmKsOp6Rtn"
      }
    },
    {
      "cell_type": "code",
      "source": [
        "# Documentos son relevantes para la consulta\n",
        "relevant_docs = {13771,2457, 2270}\n",
        "\n",
        "# Obtenemos los rankings de ambos modelos\n",
        "tfidf_results = rank_documents(query, tfidf_vectorizer, tfidf_matrix, newsgroupsdocs, top_n=10)\n",
        "bm25_results = rank_bm25(query, newsgroupsdocs, bm25, top_n=10)"
      ],
      "metadata": {
        "colab": {
          "base_uri": "https://localhost:8080/"
        },
        "id": "2Ir-zgDm6RXK",
        "outputId": "57f323d0-7cb8-4c67-cd03-a0ad70570642"
      },
      "execution_count": 69,
      "outputs": [
        {
          "output_type": "stream",
          "name": "stdout",
          "text": [
            "\n",
            "=== Dimensiones de la matriz TF-IDF ===\n",
            "Filas (documentos): 18846\n",
            "Columnas (términos): 100\n"
          ]
        }
      ]
    },
    {
      "cell_type": "code",
      "source": [
        "def precision_at_k(ranked_docs, relevant_docs, k):\n",
        "    retrieved = ranked_docs[:k]\n",
        "    relevant_retrieved = [doc_id for doc_id in retrieved if doc_id in relevant_docs]\n",
        "    return len(relevant_retrieved) / k\n",
        "\n",
        "def average_precision(ranked_docs, relevant_docs):\n",
        "    hits = 0\n",
        "    sum_precisions = 0\n",
        "    for i, doc_id in enumerate(ranked_docs):\n",
        "        if doc_id in relevant_docs:\n",
        "            hits += 1\n",
        "            sum_precisions += hits / (i + 1)\n",
        "    if hits == 0:\n",
        "        return 0\n",
        "    return sum_precisions / hits\n"
      ],
      "metadata": {
        "id": "8-BkI4Na74l5"
      },
      "execution_count": 70,
      "outputs": []
    },
    {
      "cell_type": "code",
      "source": [
        "def precision_at_k(ranked_docs, relevant_docs, k):\n",
        "    retrieved = ranked_docs[:k]\n",
        "    relevant_retrieved = [doc_id for doc_id in retrieved if doc_id in relevant_docs]\n",
        "    return len(relevant_retrieved) / k\n",
        "\n",
        "def average_precision(ranked_docs, relevant_docs):\n",
        "    hits = 0\n",
        "    sum_precisions = 0\n",
        "    for i, doc_id in enumerate(ranked_docs):\n",
        "        if doc_id in relevant_docs:\n",
        "            hits += 1\n",
        "            sum_precisions += hits / (i + 1)\n",
        "    if hits == 0:\n",
        "        return 0\n",
        "    return sum_precisions / hits\n"
      ],
      "metadata": {
        "id": "Hb_q0wiK77Of"
      },
      "execution_count": 71,
      "outputs": []
    },
    {
      "cell_type": "code",
      "source": [
        "# Obtener los IDs de documentos en orden\n",
        "tfidf_doc_ids = tfidf_results['Doc ID'].tolist()\n",
        "bm25_doc_ids = bm25_results['Doc ID'].tolist()\n",
        "\n",
        "# Evaluación\n",
        "print(\"\\n=== Evaluación ===\")\n",
        "print(\"Consulta:\", query)\n",
        "print(\"Documentos relevantes:\", relevant_docs)\n",
        "\n",
        "print(\"\\nTF-IDF:\")\n",
        "print(\"Precision@3:\", precision_at_k(tfidf_doc_ids, relevant_docs, k=3))\n",
        "print(\"MAP:\", average_precision(tfidf_doc_ids, relevant_docs))\n",
        "\n",
        "print(\"\\nBM25:\")\n",
        "print(\"Precision@3:\", precision_at_k(bm25_doc_ids, relevant_docs, k=3))\n",
        "print(\"MAP:\", average_precision(bm25_doc_ids, relevant_docs))\n"
      ],
      "metadata": {
        "colab": {
          "base_uri": "https://localhost:8080/"
        },
        "id": "yIn86E5z7_Mt",
        "outputId": "8430caf8-2d0f-40a0-fcbb-66be2921faf1"
      },
      "execution_count": 72,
      "outputs": [
        {
          "output_type": "stream",
          "name": "stdout",
          "text": [
            "\n",
            "=== Evaluación ===\n",
            "Consulta: New Jersey\n",
            "Documentos relevantes: {2457, 13771, 2270}\n",
            "\n",
            "TF-IDF:\n",
            "Precision@3: 1.0\n",
            "MAP: 1.0\n",
            "\n",
            "BM25:\n",
            "Precision@3: 0.0\n",
            "MAP: 0\n"
          ]
        }
      ]
    },
    {
      "cell_type": "markdown",
      "source": [
        "¿Cuál modelo da mejores resultados respecto a tu criterio de relevancia?\n",
        "\n",
        "  TF-IDF lo supera, porque esta dando más peso a términos distintivos de los documentos."
      ],
      "metadata": {
        "id": "wqLs-gT58N-r"
      }
    }
  ]
}