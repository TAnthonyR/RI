{
  "metadata": {
    "kernelspec": {
      "language": "python",
      "display_name": "Python 3",
      "name": "python3"
    },
    "language_info": {
      "pygments_lexer": "ipython3",
      "nbconvert_exporter": "python",
      "version": "3.6.4",
      "file_extension": ".py",
      "codemirror_mode": {
        "name": "ipython",
        "version": 3
      },
      "name": "python",
      "mimetype": "text/x-python"
    },
    "kaggle": {
      "accelerator": "none",
      "dataSources": [],
      "isInternetEnabled": true,
      "language": "python",
      "sourceType": "notebook",
      "isGpuEnabled": false
    },
    "colab": {
      "provenance": []
    }
  },
  "nbformat_minor": 0,
  "nbformat": 4,
  "cells": [
    {
      "cell_type": "markdown",
      "source": [
        "## Ejercicio 1: Introducción a Recuperación de Información\n",
        "### Objetivo de la práctica\n",
        "* Entender el problema de buscar información en colecciones de texto.\n",
        "* Comprender por qué se necesita un índice invertido en recuperación de información.\n",
        "* Programar una primera solución manual y luego optimizarla con un índice.\n",
        "* Evaluar la mejora en tiempos de búsqueda cuando usamos estructuras adecuadas.\n",
        "##Parte 1: Búsqueda lineal en documentos\n",
        "### Actividad\n",
        "Se te proporcionará un conjunto de documentos de texto.\n",
        "Escribe una función que:\n",
        "* Lea todos los documentos.\n",
        "* Busque una palabra ingresada por el usuario.\n",
        "* Muestre en qué documentos aparece la palabra.\n"
      ],
      "metadata": {
        "_uuid": "8f2839f25d086af736a60e9eeb907d3b93b6e0e5",
        "_cell_guid": "b1076dfc-b9ad-4769-8c92-a6c4dae69d19",
        "id": "lgZ0Q28i2Cg2"
      }
    },
    {
      "cell_type": "code",
      "source": [
        "def buscar_palabra_en_corpus(archivo, palabra_buscar, mostrar_lineas=False):\n",
        "\n",
        "    with open(archivo, 'r') as file:\n",
        "            lineas = file.readlines()\n",
        "    resultados = []\n",
        "\n",
        "    print(f\"\\nBuscando la palabra '{palabra_buscar}' en {archivo}...\\n\")\n",
        "\n",
        "    for num_linea, linea in enumerate(lineas, 1):\n",
        "        if palabra_buscar in linea:\n",
        "            resultados.append(num_linea)\n",
        "            print(f\"Encontrada en línea {num_linea}\")\n",
        "\n",
        "    if not resultados:\n",
        "        print(f\"La palabra '{palabra_buscar}' no se encontró en el corpus\")\n",
        "    else:\n",
        "        print(f\"\\nTotal de ocurrencias: {len(resultados)}\")\n",
        "\n",
        "    print(\"\\nBúsqueda completada.\")\n",
        "    return resultados\n",
        "\n",
        "\n",
        "ARCHIVO = '01_corpus_turismo_500.txt'\n",
        "QUERY = 'Ecuador'\n",
        "resultados = buscar_palabra_en_corpus(ARCHIVO, QUERY, mostrar_lineas=True)"
      ],
      "metadata": {
        "colab": {
          "base_uri": "https://localhost:8080/"
        },
        "id": "Mk2Wk1MmWmGF",
        "outputId": "d8a8c0bc-72d5-4207-da09-2e1739bebc03"
      },
      "execution_count": 6,
      "outputs": [
        {
          "output_type": "stream",
          "name": "stdout",
          "text": [
            "\n",
            "Buscando la palabra 'Ecuador' en 01_corpus_turismo_500.txt...\n",
            "\n",
            "Encontrada en línea 5\n",
            "Encontrada en línea 22\n",
            "Encontrada en línea 30\n",
            "Encontrada en línea 37\n",
            "Encontrada en línea 41\n",
            "Encontrada en línea 45\n",
            "Encontrada en línea 76\n",
            "Encontrada en línea 109\n",
            "Encontrada en línea 110\n",
            "Encontrada en línea 122\n",
            "Encontrada en línea 127\n",
            "Encontrada en línea 130\n",
            "Encontrada en línea 156\n",
            "Encontrada en línea 163\n",
            "Encontrada en línea 168\n",
            "Encontrada en línea 200\n",
            "Encontrada en línea 225\n",
            "Encontrada en línea 231\n",
            "Encontrada en línea 246\n",
            "Encontrada en línea 254\n",
            "Encontrada en línea 258\n",
            "Encontrada en línea 280\n",
            "Encontrada en línea 307\n",
            "Encontrada en línea 319\n",
            "Encontrada en línea 324\n",
            "Encontrada en línea 333\n",
            "Encontrada en línea 352\n",
            "Encontrada en línea 371\n",
            "Encontrada en línea 379\n",
            "Encontrada en línea 383\n",
            "Encontrada en línea 386\n",
            "Encontrada en línea 442\n",
            "Encontrada en línea 459\n",
            "Encontrada en línea 486\n",
            "Encontrada en línea 491\n",
            "Encontrada en línea 492\n",
            "\n",
            "Total de ocurrencias: 36\n",
            "\n",
            "Búsqueda completada.\n"
          ]
        }
      ]
    },
    {
      "cell_type": "markdown",
      "source": [
        "##Parte 2: Construcción de un índice invertido\n",
        "###Actividad\n",
        "1. Escribe un programa que:\n",
        "\n",
        " *   Recorra todos los documentos.\n",
        " * Construya un índice invertido, es decir, un diccionario donde:\n",
        "\n",
        "    * Cada palabra clave apunta a una lista de documentos donde aparece.\n",
        "2. Escribe una nueva función de búsqueda que:\n",
        "\n",
        " * Consulte directamente el índice para encontrar los documentos relevantes.\n",
        " * Sea mucho más rápida que la búsqueda lineal."
      ],
      "metadata": {
        "id": "mZosZ53H2mEc"
      }
    },
    {
      "cell_type": "code",
      "source": [
        "from collections import defaultdict\n",
        "\n",
        "def crear_indice_invertido(archivo):\n",
        "\n",
        "    indice = defaultdict(list)\n",
        "\n",
        "    with open(archivo, 'r', encoding='utf-8') as f:\n",
        "          for num_linea, linea in enumerate(f, 1):\n",
        "              palabras_unicas = set(linea.split())\n",
        "              for palabra in palabras_unicas:\n",
        "                    indice[palabra].append(num_linea)\n",
        "    return indice\n",
        "\n",
        "\n",
        "def buscar_palabras(indice, palabras_a_buscar):\n",
        "\n",
        "    if not indice:\n",
        "        print(\"No se puede realizar la búsqueda: índice no disponible\")\n",
        "        return\n",
        "\n",
        "    print(\"\\nResultados de búsqueda:\")\n",
        "    for palabra in palabras_a_buscar:\n",
        "        lineas = indice.get(palabra, [])\n",
        "\n",
        "        if lineas:\n",
        "            print(f\"\\n'{palabra}' encontrada en {len(lineas)} línea(s):\")\n",
        "            print(f\"Líneas: {', '.join(map(str, lineas))}\")\n",
        "        else:\n",
        "            print(f\"\\n'{palabra}' no encontrada en el documento\")\n",
        "\n",
        "\n",
        "ARCHIVO = '01_corpus_turismo_500.txt'\n",
        "QUERY = ['Ecuador']\n",
        "indice = crear_indice_invertido(ARCHIVO)\n",
        "buscar_palabras(indice, QUERY)"
      ],
      "metadata": {
        "id": "iMHrygxS3Dey",
        "colab": {
          "base_uri": "https://localhost:8080/"
        },
        "outputId": "45e8adc6-c29e-4619-e0bc-7f06ae7ee9e2"
      },
      "execution_count": 7,
      "outputs": [
        {
          "output_type": "stream",
          "name": "stdout",
          "text": [
            "\n",
            "Resultados de búsqueda:\n",
            "\n",
            "'Ecuador' encontrada en 36 línea(s):\n",
            "Líneas: 5, 22, 30, 37, 41, 45, 76, 109, 110, 122, 127, 130, 156, 163, 168, 200, 225, 231, 246, 254, 258, 280, 307, 319, 324, 333, 352, 371, 379, 383, 386, 442, 459, 486, 491, 492\n"
          ]
        }
      ]
    },
    {
      "cell_type": "markdown",
      "source": [
        "## Parte 3: Evaluación de tiempos de búsqueda\n",
        "### Actividad\n",
        "1. Realiza la búsqueda de varias palabras usando:\n",
        " * Corpus pequeño: 16 documentos (turismo en Ecuador).\n",
        " * Corpus grande: 500 documentos (versión ampliada).\n",
        "2. Mide el tiempo de ejecución:\n",
        " * Para búsqueda lineal.\n",
        " * Para búsqueda usando índice invertido.\n",
        " * Grafica o presenta los resultados en una tabla comparativa.\n",
        "\n",
        "### Ejemplo de palabras para buscar\n",
        "* quito\n",
        "* montañita\n",
        "* feriado\n",
        "* playas\n",
        "* aventura\n",
        "* galápagos"
      ],
      "metadata": {
        "id": "cJq9uQTQLX6J"
      }
    },
    {
      "cell_type": "markdown",
      "source": [
        "### - Corpus turismo"
      ],
      "metadata": {
        "id": "evm0hXt1XGYS"
      }
    },
    {
      "cell_type": "code",
      "source": [
        "import time\n",
        "from collections import defaultdict\n",
        "from tabulate import tabulate\n",
        "\n",
        "DOCUMENTOS = [\"01_corpus_turismo.txt\"]\n",
        "PALABRAS = [\"Quito\", \"Montañita\", \"Feriado\", \"Playas\", \"Aventura\", \"Galápagos\"]\n",
        "\n",
        "def busqueda_lineal(documentos, palabra):\n",
        "    resultados = []\n",
        "\n",
        "    for doc in documentos:\n",
        "        with open(doc, 'r') as f:\n",
        "            if palabra in f.read():\n",
        "                resultados.append(doc)\n",
        "\n",
        "    return resultados\n",
        "\n",
        "def construir_indice(documentos):\n",
        "    indice = defaultdict(list)\n",
        "    for doc in documentos:\n",
        "        with open(doc, 'r') as f:\n",
        "            contenido = f.read()\n",
        "            for palabra in set(contenido.split()):\n",
        "                   indice[palabra].append(doc)\n",
        "\n",
        "    return indice\n",
        "\n",
        "def comparar_metodos():\n",
        "    resultados = []\n",
        "\n",
        "    # Bucle para leer cada palabra\n",
        "    for palabra in PALABRAS:\n",
        "        # Búsqueda lineal\n",
        "        inicio_lineal = time.time()\n",
        "        _ = busqueda_lineal(DOCUMENTOS, palabra)\n",
        "        tiempo_lineal = time.time() - inicio_lineal\n",
        "\n",
        "        # Búsqueda con índice por cada palabra\n",
        "        inicio_indice = time.time()\n",
        "        indice = construir_indice(DOCUMENTOS)\n",
        "        _ = indice.get(palabra, [])\n",
        "        tiempo_indice = time.time() - inicio_indice\n",
        "\n",
        "        resultados.append([\n",
        "            palabra,\n",
        "            f\"{tiempo_lineal:.6f} s\",\n",
        "            f\"{tiempo_indice:.6f} s\"\n",
        "        ])\n",
        "\n",
        "    # Tabla\n",
        "    headers = [\"Palabra\", \"Búsqueda Lineal\", \"Índice Invertido\"]\n",
        "    print(\"\\n\" + tabulate(resultados, headers=headers, tablefmt=\"grid\"))\n",
        "\n",
        "comparar_metodos()"
      ],
      "metadata": {
        "colab": {
          "base_uri": "https://localhost:8080/"
        },
        "id": "uxj2rInBVF-f",
        "outputId": "4c9dc1e7-c3b0-4dc8-caba-87f264e5411e"
      },
      "execution_count": 16,
      "outputs": [
        {
          "output_type": "stream",
          "name": "stdout",
          "text": [
            "\n",
            "+-----------+-------------------+--------------------+\n",
            "| Palabra   | Búsqueda Lineal   | Índice Invertido   |\n",
            "+===========+===================+====================+\n",
            "| Quito     | 0.000176 s        | 0.001780 s         |\n",
            "+-----------+-------------------+--------------------+\n",
            "| Montañita | 0.000082 s        | 0.000190 s         |\n",
            "+-----------+-------------------+--------------------+\n",
            "| Feriado   | 0.000057 s        | 0.000165 s         |\n",
            "+-----------+-------------------+--------------------+\n",
            "| Playas    | 0.000068 s        | 0.000184 s         |\n",
            "+-----------+-------------------+--------------------+\n",
            "| Aventura  | 0.000050 s        | 0.000226 s         |\n",
            "+-----------+-------------------+--------------------+\n",
            "| Galápagos | 0.000075 s        | 0.000418 s         |\n",
            "+-----------+-------------------+--------------------+\n"
          ]
        }
      ]
    },
    {
      "cell_type": "markdown",
      "source": [
        "### - Corpus turismo de 500 palabras"
      ],
      "metadata": {
        "id": "8RTwiMs7XO_r"
      }
    },
    {
      "cell_type": "code",
      "source": [
        "import time\n",
        "from collections import defaultdict\n",
        "from tabulate import tabulate\n",
        "\n",
        "DOCUMENTOS = [\"01_corpus_turismo_500.txt\"]\n",
        "PALABRAS = [\"Quito\", \"Montañita\", \"Feriado\", \"Playas\", \"Aventura\", \"Galápagos\"]\n",
        "\n",
        "def busqueda_lineal(documentos, palabra):\n",
        "    resultados = []\n",
        "\n",
        "    for doc in documentos:\n",
        "        with open(doc, 'r') as f:\n",
        "            if palabra in f.read():\n",
        "                resultados.append(doc)\n",
        "\n",
        "    return resultados\n",
        "\n",
        "def construir_indice(documentos):\n",
        "    indice = defaultdict(list)\n",
        "\n",
        "    for doc in documentos:\n",
        "        with open(doc, 'r') as f:\n",
        "            contenido = f.read()\n",
        "            for palabra in set(contenido.split()):\n",
        "                indice[palabra].append(doc)\n",
        "\n",
        "    return indice\n",
        "\n",
        "def comparar_metodos():\n",
        "    resultados = []\n",
        "\n",
        "    # Bucle para leer cada palabra\n",
        "\n",
        "    for palabra in PALABRAS:\n",
        "        # Búsqueda lineal\n",
        "        inicio_lineal = time.time()\n",
        "        _ = busqueda_lineal(DOCUMENTOS, palabra)\n",
        "        tiempo_lineal = time.time() - inicio_lineal\n",
        "\n",
        "        # Búsqueda con índice por cada palabra\n",
        "        inicio_indice = time.time()\n",
        "        indice = construir_indice(DOCUMENTOS)\n",
        "        _ = indice.get(palabra, [])\n",
        "        tiempo_indice = time.time() - inicio_indice\n",
        "\n",
        "        resultados.append([\n",
        "            palabra,\n",
        "            f\"{tiempo_lineal:.6f} s\",\n",
        "            f\"{tiempo_indice:.6f} s\"\n",
        "        ])\n",
        "\n",
        "    # Tabla\n",
        "    headers = [\"Palabra\", \"Búsqueda Lineal\", \"Índice Invertido\"]\n",
        "    print(\"\\n\" + tabulate(resultados, headers=headers, tablefmt=\"grid\"))\n",
        "\n",
        "comparar_metodos()"
      ],
      "metadata": {
        "colab": {
          "base_uri": "https://localhost:8080/"
        },
        "id": "BejuVyNgcNo7",
        "outputId": "e5751d68-db4b-4132-bbbb-e888aa8a5d46"
      },
      "execution_count": 17,
      "outputs": [
        {
          "output_type": "stream",
          "name": "stdout",
          "text": [
            "\n",
            "+-----------+-------------------+--------------------+\n",
            "| Palabra   | Búsqueda Lineal   | Índice Invertido   |\n",
            "+===========+===================+====================+\n",
            "| Quito     | 0.000525 s        | 0.001468 s         |\n",
            "+-----------+-------------------+--------------------+\n",
            "| Montañita | 0.000165 s        | 0.001084 s         |\n",
            "+-----------+-------------------+--------------------+\n",
            "| Feriado   | 0.000135 s        | 0.001254 s         |\n",
            "+-----------+-------------------+--------------------+\n",
            "| Playas    | 0.000157 s        | 0.000803 s         |\n",
            "+-----------+-------------------+--------------------+\n",
            "| Aventura  | 0.000139 s        | 0.000789 s         |\n",
            "+-----------+-------------------+--------------------+\n",
            "| Galápagos | 0.000077 s        | 0.000801 s         |\n",
            "+-----------+-------------------+--------------------+\n"
          ]
        }
      ]
    },
    {
      "cell_type": "markdown",
      "source": [
        "## Parte 4:\n",
        "### Actividad\n",
        "1. Modifica el índice para que ignore mayúsculas/minúsculas (por ejemplo, \"Playa\" y \"playa\" deben considerarse iguales).\n",
        "2. Permite consultas de múltiples términos (ejemplo: buscar documentos que contengan \"playa\" y \"turismo\").\n",
        "3. Calcula el speedup"
      ],
      "metadata": {
        "id": "eXvK3dujL-OH"
      }
    },
    {
      "cell_type": "code",
      "source": [
        "import time\n",
        "from collections import defaultdict\n",
        "from tabulate import tabulate\n",
        "\n",
        "DOCUMENTOS = [\"01_corpus_turismo_500.txt\"]\n",
        "PALABRAS = [\"CUENCA\", \"otavalo\", \"nacional\", \"Turistas\"]\n",
        "\n",
        "def busqueda_lineal(documentos, palabra):\n",
        "    resultados = []\n",
        "    palabra = palabra.lower() # Transformacion a minusculas (*)\n",
        "    for doc in documentos:\n",
        "        with open(doc, 'r') as f:\n",
        "            if palabra in f.read().lower():\n",
        "                resultados.append(doc)\n",
        "\n",
        "    return resultados\n",
        "\n",
        "def construir_indice(documentos):\n",
        "    indice = defaultdict(list)\n",
        "    for doc in documentos:\n",
        "        with open(doc, 'r') as f:\n",
        "            contenido = f.read().lower() # *\n",
        "            for palabra in set(contenido.split()):\n",
        "                indice[palabra].append(doc)\n",
        "\n",
        "    return indice\n",
        "\n",
        "def comparar_metodos():\n",
        "\n",
        "    # Construimos índice\n",
        "    inicio_indice = time.time()\n",
        "    indice = construir_indice(DOCUMENTOS)\n",
        "    tiempo_construccion = time.time() - inicio_indice\n",
        "\n",
        "    resultados = []\n",
        "\n",
        "    for palabra in PALABRAS:\n",
        "        # Medir búsqueda lineal\n",
        "        inicio = time.time()\n",
        "        _ = busqueda_lineal(DOCUMENTOS, palabra)\n",
        "        tiempo_lineal = time.time() - inicio\n",
        "\n",
        "        # Medir búsqueda con índice\n",
        "        inicio = time.time()\n",
        "        resultados_indice = indice.get(palabra.lower(), [])\n",
        "        tiempo_indice = time.time() - inicio\n",
        "\n",
        "        resultados.append([\n",
        "            palabra,\n",
        "            f\"{tiempo_lineal:.6f} s\",\n",
        "            f\"{tiempo_indice:.6f} s\",\n",
        "            f\"{tiempo_lineal/tiempo_indice:.1f}x\" if tiempo_indice > 0 else \"N/A\" # Caculo de Speedup\n",
        "        ])\n",
        "\n",
        "  # Tabla\n",
        "    headers = [\"Palabra\", \"Búsqueda Lineal\", \"Índice Invertido\", \"Speedup\"]\n",
        "    print(\"\\n\" + tabulate(resultados, headers=headers, tablefmt=\"grid\"))\n",
        "\n",
        "comparar_metodos()"
      ],
      "metadata": {
        "id": "p0iQQuxkMV64",
        "colab": {
          "base_uri": "https://localhost:8080/"
        },
        "outputId": "87e144d5-c6c9-40bd-cc3a-119eeedcdaa9"
      },
      "execution_count": 10,
      "outputs": [
        {
          "output_type": "stream",
          "name": "stdout",
          "text": [
            "\n",
            "+-----------+-------------------+--------------------+-----------+\n",
            "| Palabra   | Búsqueda Lineal   | Índice Invertido   | Speedup   |\n",
            "+===========+===================+====================+===========+\n",
            "| CUENCA    | 0.001298 s        | 0.000002 s         | 544.6x    |\n",
            "+-----------+-------------------+--------------------+-----------+\n",
            "| otavalo   | 0.000973 s        | 0.000007 s         | 140.7x    |\n",
            "+-----------+-------------------+--------------------+-----------+\n",
            "| nacional  | 0.001038 s        | 0.000005 s         | 189.2x    |\n",
            "+-----------+-------------------+--------------------+-----------+\n",
            "| Turistas  | 0.000770 s        | 0.000004 s         | 189.9x    |\n",
            "+-----------+-------------------+--------------------+-----------+\n"
          ]
        }
      ]
    },
    {
      "cell_type": "markdown",
      "source": [
        "###### Anthony Reinoso\n"
      ],
      "metadata": {
        "id": "bx_ZgmI5cAWm"
      }
    }
  ]
}